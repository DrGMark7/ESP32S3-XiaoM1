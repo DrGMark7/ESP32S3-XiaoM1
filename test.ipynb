{
 "cells": [
  {
   "cell_type": "code",
   "execution_count": 4,
   "metadata": {},
   "outputs": [
    {
     "name": "stdout",
     "output_type": "stream",
     "text": [
      "รายการไฟล์และโฟลเดอร์ใน: resource\n",
      "----------------------------------------------\n",
      "recording1.wav\n",
      "recording2.wav\n"
     ]
    }
   ],
   "source": [
    "import os\n",
    "\n",
    "def list_files(directory):\n",
    "    \"\"\"\n",
    "    แสดงรายการไฟล์และโฟลเดอร์ในไดเรกทอรีที่กำหนด\n",
    "    \"\"\"\n",
    "    print(\"รายการไฟล์และโฟลเดอร์ใน:\", directory)\n",
    "    print(\"----------------------------------------------\")\n",
    "    for item in os.listdir(directory):\n",
    "        # ตรวจสอบว่าไฟล์หรือโฟลเดอร์\n",
    "        print(item)\n",
    "\n",
    "# กำหนดตำแหน่งของไดเรกทอรีที่คุณต้องการตรวจสอบ\n",
    "directory_path = \"resource\"\n",
    "\n",
    "# เรียกใช้งานฟังก์ชันเพื่อแสดงรายการไฟล์และโฟลเดอร์\n",
    "list_files(directory_path)\n"
   ]
  },
  {
   "cell_type": "code",
   "execution_count": 5,
   "metadata": {},
   "outputs": [
    {
     "name": "stdout",
     "output_type": "stream",
     "text": [
      "resource/recodingE1.wav\n"
     ]
    }
   ],
   "source": [
    "path ,file_name = 'resource','E1'\n",
    "final_path = path+\"/\"+\"recoding\"+file_name+\".wav\"\n",
    "print(final_path)"
   ]
  },
  {
   "cell_type": "code",
   "execution_count": 32,
   "metadata": {},
   "outputs": [
    {
     "data": {
      "text/plain": [
       "True"
      ]
     },
     "execution_count": 32,
     "metadata": {},
     "output_type": "execute_result"
    }
   ],
   "source": [
    "def check_voice_file(file_name):\n",
    "    for item in os.listdir(\"resource\"):\n",
    "        key = item.split(\".\")[0][-2:]\n",
    "        if key == file_name:\n",
    "            return True\n",
    "        \n",
    "    return False\n",
    "        \n",
    "        \n",
    "check_voice_file(\"E2\")"
   ]
  },
  {
   "cell_type": "code",
   "execution_count": null,
   "metadata": {},
   "outputs": [],
   "source": [
    "x = 17890\n",
    "def rounding_bytes(n_bytes):\n",
    "    "
   ]
  },
  {
   "cell_type": "code",
   "execution_count": 34,
   "metadata": {},
   "outputs": [
    {
     "data": {
      "text/plain": [
       "1"
      ]
     },
     "execution_count": 34,
     "metadata": {},
     "output_type": "execute_result"
    }
   ],
   "source": [
    "17890 // 16384"
   ]
  }
 ],
 "metadata": {
  "kernelspec": {
   "display_name": "ESP32S3-XiaoM1",
   "language": "python",
   "name": "python3"
  },
  "language_info": {
   "codemirror_mode": {
    "name": "ipython",
    "version": 3
   },
   "file_extension": ".py",
   "mimetype": "text/x-python",
   "name": "python",
   "nbconvert_exporter": "python",
   "pygments_lexer": "ipython3",
   "version": "3.9.13"
  }
 },
 "nbformat": 4,
 "nbformat_minor": 2
}
